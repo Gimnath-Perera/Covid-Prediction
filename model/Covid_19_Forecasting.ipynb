{
  "nbformat": 4,
  "nbformat_minor": 0,
  "metadata": {
    "colab": {
      "name": "Covid-19-Forecasting.ipynb",
      "provenance": []
    },
    "kernelspec": {
      "name": "python3",
      "display_name": "Python 3"
    },
    "language_info": {
      "name": "python"
    }
  },
  "cells": [
    {
      "cell_type": "code",
      "execution_count": 38,
      "metadata": {
        "id": "GFGMCcBfV7AW"
      },
      "outputs": [],
      "source": [
        "import pandas as pd\n",
        "import numpy as np\n",
        "import matplotlib.pyplot as plt"
      ]
    },
    {
      "cell_type": "code",
      "source": [
        "country = \"Malaysia\""
      ],
      "metadata": {
        "id": "JpHpHuwmXkFl"
      },
      "execution_count": 39,
      "outputs": []
    },
    {
      "cell_type": "code",
      "source": [
        "#Total COVID confirmed cases\n",
        "df_confirmed = pd.read_csv(\"https://raw.githubusercontent.com/CSSEGISandData/COVID-19/master/csse_covid_19_data/csse_covid_19_time_series/time_series_covid19_confirmed_global.csv\")\n",
        "#df_confirmed.to_csv('global.csv')\n",
        "df_confirmed_country = df_confirmed[df_confirmed[\"Country/Region\"] == country]\n",
        "df_confirmed_country = pd.DataFrame(df_confirmed_country[df_confirmed_country.columns[4:]].sum(),columns=[\"confirmed\"])\n",
        "df_confirmed_country.index = pd.to_datetime(df_confirmed_country.index,format='%m/%d/%y')\n",
        "\n",
        "df_confirmed_country.plot(figsize=(10,5),title=\"COVID confirmed cases\")"
      ],
      "metadata": {
        "colab": {
          "base_uri": "https://localhost:8080/",
          "height": 364
        },
        "id": "8H3A4-8oXqJd",
        "outputId": "d957416f-2bcd-4f2a-873c-98e8fe1ce930"
      },
      "execution_count": 40,
      "outputs": [
        {
          "output_type": "execute_result",
          "data": {
            "text/plain": [
              "<matplotlib.axes._subplots.AxesSubplot at 0x7f46ba88ac50>"
            ]
          },
          "metadata": {},
          "execution_count": 40
        },
        {
          "output_type": "display_data",
          "data": {
            "image/png": "[encoded data removed]",
            "text/plain": [
              "<Figure size 720x360 with 1 Axes>"
            ]
          },
          "metadata": {
            "needs_background": "light"
          }
        }
      ]
    },
    {
      "cell_type": "code",
      "source": [
        "df_confirmed_country.tail(10)"
      ],
      "metadata": {
        "colab": {
          "base_uri": "https://localhost:8080/",
          "height": 363
        },
        "id": "MpXunGagXros",
        "outputId": "cacd947f-1257-4db1-e85f-a7bebaec5b3b"
      },
      "execution_count": 41,
      "outputs": [
        {
          "output_type": "execute_result",
          "data": {
            "text/html": [
              "\n",
              "  <div id=\"df-871499cd-32f1-4c98-8850-977527ac9e20\">\n",
              "    <div class=\"colab-df-container\">\n",
              "      <div>\n",
              "<style scoped>\n",
              "    .dataframe tbody tr th:only-of-type {\n",
              "        vertical-align: middle;\n",
              "    }\n",
              "\n",
              "    .dataframe tbody tr th {\n",
              "        vertical-align: top;\n",
              "    }\n",
              "\n",
              "    .dataframe thead th {\n",
              "        text-align: right;\n",
              "    }\n",
              "</style>\n",
              "<table border=\"1\" class=\"dataframe\">\n",
              "  <thead>\n",
              "    <tr style=\"text-align: right;\">\n",
              "      <th></th>\n",
              "      <th>confirmed</th>\n",
              "    </tr>\n",
              "  </thead>\n",
              "  <tbody>\n",
              "    <tr>\n",
              "      <th>2022-02-16</th>\n",
              "      <td>3111514</td>\n",
              "    </tr>\n",
              "    <tr>\n",
              "      <th>2022-02-17</th>\n",
              "      <td>3138215</td>\n",
              "    </tr>\n",
              "    <tr>\n",
              "      <th>2022-02-18</th>\n",
              "      <td>3166023</td>\n",
              "    </tr>\n",
              "    <tr>\n",
              "      <th>2022-02-19</th>\n",
              "      <td>3194848</td>\n",
              "    </tr>\n",
              "    <tr>\n",
              "      <th>2022-02-20</th>\n",
              "      <td>3221680</td>\n",
              "    </tr>\n",
              "    <tr>\n",
              "      <th>2022-02-21</th>\n",
              "      <td>3246779</td>\n",
              "    </tr>\n",
              "    <tr>\n",
              "      <th>2022-02-22</th>\n",
              "      <td>3273958</td>\n",
              "    </tr>\n",
              "    <tr>\n",
              "      <th>2022-02-23</th>\n",
              "      <td>3305157</td>\n",
              "    </tr>\n",
              "    <tr>\n",
              "      <th>2022-02-24</th>\n",
              "      <td>3337227</td>\n",
              "    </tr>\n",
              "    <tr>\n",
              "      <th>2022-02-25</th>\n",
              "      <td>3367871</td>\n",
              "    </tr>\n",
              "  </tbody>\n",
              "</table>\n",
              "</div>\n",
              "      <button class=\"colab-df-convert\" onclick=\"convertToInteractive('df-871499cd-32f1-4c98-8850-977527ac9e20')\"\n",
              "              title=\"Convert this dataframe to an interactive table.\"\n",
              "              style=\"display:none;\">\n",
              "        \n",
              "  <svg xmlns=\"http://www.w3.org/2000/svg\" height=\"24px\"viewBox=\"0 0 24 24\"\n",
              "       width=\"24px\">\n",
              "    <path d=\"M0 0h24v24H0V0z\" fill=\"none\"/>\n",
              "    <path d=\"M18.56 5.44l.94 2.06.94-2.06 2.06-.94-2.06-.94-.94-2.06-.94 2.06-2.06.94zm-11 1L8.5 8.5l.94-2.06 2.06-.94-2.06-.94L8.5 2.5l-.94 2.06-2.06.94zm10 10l.94 2.06.94-2.06 2.06-.94-2.06-.94-.94-2.06-.94 2.06-2.06.94z\"/><path d=\"M17.41 7.96l-1.37-1.37c-.4-.4-.92-.59-1.43-.59-.52 0-1.04.2-1.43.59L10.3 9.45l-7.72 7.72c-.78.78-.78 2.05 0 2.83L4 21.41c.39.39.9.59 1.41.59.51 0 1.02-.2 1.41-.59l7.78-7.78 2.81-2.81c.8-.78.8-2.07 0-2.86zM5.41 20L4 18.59l7.72-7.72 1.47 1.35L5.41 20z\"/>\n",
              "  </svg>\n",
              "      </button>\n",
              "      \n",
              "  <style>\n",
              "    .colab-df-container {\n",
              "      display:flex;\n",
              "      flex-wrap:wrap;\n",
              "      gap: 12px;\n",
              "    }\n",
              "\n",
              "    .colab-df-convert {\n",
              "      background-color: #E8F0FE;\n",
              "      border: none;\n",
              "      border-radius: 50%;\n",
              "      cursor: pointer;\n",
              "      display: none;\n",
              "      fill: #1967D2;\n",
              "      height: 32px;\n",
              "      padding: 0 0 0 0;\n",
              "      width: 32px;\n",
              "    }\n",
              "\n",
              "    .colab-df-convert:hover {\n",
              "      background-color: #E2EBFA;\n",
              "      box-shadow: 0px 1px 2px rgba(60, 64, 67, 0.3), 0px 1px 3px 1px rgba(60, 64, 67, 0.15);\n",
              "      fill: #174EA6;\n",
              "    }\n",
              "\n",
              "    [theme=dark] .colab-df-convert {\n",
              "      background-color: #3B4455;\n",
              "      fill: #D2E3FC;\n",
              "    }\n",
              "\n",
              "    [theme=dark] .colab-df-convert:hover {\n",
              "      background-color: #434B5C;\n",
              "      box-shadow: 0px 1px 3px 1px rgba(0, 0, 0, 0.15);\n",
              "      filter: drop-shadow(0px 1px 2px rgba(0, 0, 0, 0.3));\n",
              "      fill: #FFFFFF;\n",
              "    }\n",
              "  </style>\n",
              "\n",
              "      <script>\n",
              "        const buttonEl =\n",
              "          document.querySelector('#df-871499cd-32f1-4c98-8850-977527ac9e20 button.colab-df-convert');\n",
              "        buttonEl.style.display =\n",
              "          google.colab.kernel.accessAllowed ? 'block' : 'none';\n",
              "\n",
              "        async function convertToInteractive(key) {\n",
              "          const element = document.querySelector('#df-871499cd-32f1-4c98-8850-977527ac9e20');\n",
              "          const dataTable =\n",
              "            await google.colab.kernel.invokeFunction('convertToInteractive',\n",
              "                                                     [key], {});\n",
              "          if (!dataTable) return;\n",
              "\n",
              "          const docLinkHtml = 'Like what you see? Visit the ' +\n",
              "            '<a target=\"_blank\" href=https://colab.research.google.com/notebooks/data_table.ipynb>data table notebook</a>'\n",
              "            + ' to learn more about interactive tables.';\n",
              "          element.innerHTML = '';\n",
              "          dataTable['output_type'] = 'display_data';\n",
              "          await google.colab.output.renderOutput(dataTable, element);\n",
              "          const docLink = document.createElement('div');\n",
              "          docLink.innerHTML = docLinkHtml;\n",
              "          element.appendChild(docLink);\n",
              "        }\n",
              "      </script>\n",
              "    </div>\n",
              "  </div>\n",
              "  "
            ],
            "text/plain": [
              "            confirmed\n",
              "2022-02-16    3111514\n",
              "2022-02-17    3138215\n",
              "2022-02-18    3166023\n",
              "2022-02-19    3194848\n",
              "2022-02-20    3221680\n",
              "2022-02-21    3246779\n",
              "2022-02-22    3273958\n",
              "2022-02-23    3305157\n",
              "2022-02-24    3337227\n",
              "2022-02-25    3367871"
            ]
          },
          "metadata": {},
          "execution_count": 41
        }
      ]
    },
    {
      "cell_type": "code",
      "source": [
        "print(\"Total days in the dataset\", len(df_confirmed_country))"
      ],
      "metadata": {
        "colab": {
          "base_uri": "https://localhost:8080/"
        },
        "id": "gxue8tcQXsq8",
        "outputId": "4783d12f-a225-4bcc-c131-85242981ec2a"
      },
      "execution_count": 42,
      "outputs": [
        {
          "output_type": "stream",
          "name": "stdout",
          "text": [
            "Total days in the dataset 766\n"
          ]
        }
      ]
    },
    {
      "cell_type": "code",
      "source": [
        "#Use data until 14 days before as training\n",
        "x = len(df_confirmed_country)-14\n",
        "\n",
        "train=df_confirmed_country.iloc[:x]\n",
        "test = df_confirmed_country.iloc[x:]"
      ],
      "metadata": {
        "id": "X0AYpN7DYBOE"
      },
      "execution_count": 43,
      "outputs": []
    },
    {
      "cell_type": "code",
      "source": [
        "##scale or normalize data as the data is too skewed\n",
        "from sklearn.preprocessing import MinMaxScaler\n",
        "scaler = MinMaxScaler()\n",
        "scaler.fit(train) \n",
        "\n",
        "train_scaled = scaler.transform(train)\n",
        "test_scaled = scaler.transform(test)"
      ],
      "metadata": {
        "id": "NwU-OXzfYHOk"
      },
      "execution_count": 44,
      "outputs": []
    },
    {
      "cell_type": "code",
      "source": [
        "## Use TimeSeriestrain_generator to generate data in sequences.\n",
        "#Alternatively we can create our own sequences. \n",
        "from keras.preprocessing.sequence import TimeseriesGenerator\n",
        "\n",
        "#Sequence size has an impact on prediction, especially since COVID is unpredictable!\n",
        "seq_size = 5  ## number of steps (lookback)\n",
        "n_features = 1 ## number of features. This dataset is univariate so it is 1\n",
        "train_generator = TimeseriesGenerator(train_scaled, train_scaled, length = seq_size, batch_size=1)\n",
        "print(\"Total number of samples in the original training data = \", len(train)) # 271\n",
        "print(\"Total number of samples in the generated data = \", len(train_generator)) # 264 with seq_size=7\n"
      ],
      "metadata": {
        "colab": {
          "base_uri": "https://localhost:8080/"
        },
        "id": "Tv01l-iOYJ7M",
        "outputId": "acf34c7f-059e-46c7-f260-15810c6c7e38"
      },
      "execution_count": 45,
      "outputs": [
        {
          "output_type": "stream",
          "name": "stdout",
          "text": [
            "Total number of samples in the original training data =  752\n",
            "Total number of samples in the generated data =  747\n"
          ]
        }
      ]
    },
    {
      "cell_type": "code",
      "source": [
        "#Check data shape from generator\n",
        "x,y = train_generator[10]  #Check train_generator\n",
        "#Takes 7 days as x and 8th day as y (for seq_size=7)"
      ],
      "metadata": {
        "id": "3mp-WqBSYPxd"
      },
      "execution_count": 46,
      "outputs": []
    },
    {
      "cell_type": "code",
      "source": [
        "#Also generate test data\n",
        "test_generator = TimeseriesGenerator(test_scaled, test_scaled, length=seq_size, batch_size=1)\n",
        "print(\"Total number of samples in the original training data = \", len(test)) # 14 as we're using last 14 days for test\n",
        "print(\"Total number of samples in the generated data = \", len(test_generator)) # 7\n",
        "#Check data shape from generator\n",
        "x,y = test_generator[0]\n",
        "\n",
        "from keras.models import Sequential\n",
        "from keras.layers import Dense, LSTM, Dropout, Activation\n",
        "\n",
        "#Define Model \n",
        "model = Sequential()\n",
        "model.add(LSTM(150, activation='relu', return_sequences=True, input_shape=(seq_size, n_features)))\n",
        "model.add(LSTM(64, activation='relu'))\n",
        "model.add(Dense(64))\n",
        "model.add(Dense(32))\n",
        "model.add(Dense(1))\n",
        "model.compile(optimizer='adam', loss='mean_squared_error')\n",
        "\n",
        "model.summary()\n",
        "print('Train...')"
      ],
      "metadata": {
        "colab": {
          "base_uri": "https://localhost:8080/"
        },
        "id": "C9jARQsIYUI8",
        "outputId": "25f796e0-ee0b-48d6-ba93-bafc16a05dcc"
      },
      "execution_count": 47,
      "outputs": [
        {
          "output_type": "stream",
          "name": "stdout",
          "text": [
            "Total number of samples in the original training data =  14\n",
            "Total number of samples in the generated data =  9\n",
            "Model: \"sequential_2\"\n",
            "_________________________________________________________________\n",
            " Layer (type)                Output Shape              Param #   \n",
            "=================================================================\n",
            " lstm_4 (LSTM)               (None, 5, 150)            91200     \n",
            "                                                                 \n",
            " lstm_5 (LSTM)               (None, 64)                55040     \n",
            "                                                                 \n",
            " dense_4 (Dense)             (None, 64)                4160      \n",
            "                                                                 \n",
            " dense_5 (Dense)             (None, 32)                2080      \n",
            "                                                                 \n",
            " dense_6 (Dense)             (None, 1)                 33        \n",
            "                                                                 \n",
            "=================================================================\n",
            "Total params: 152,513\n",
            "Trainable params: 152,513\n",
            "Non-trainable params: 0\n",
            "_________________________________________________________________\n",
            "Train...\n"
          ]
        }
      ]
    },
    {
      "cell_type": "code",
      "source": [
        "history = model.fit_generator(train_generator, \n",
        "                              validation_data=test_generator, \n",
        "                              epochs=50, steps_per_epoch=10)"
      ],
      "metadata": {
        "colab": {
          "base_uri": "https://localhost:8080/"
        },
        "id": "bpFs0gXBaw3N",
        "outputId": "021f6d2d-d35a-4d5d-958e-3888fcd54bd5"
      },
      "execution_count": 48,
      "outputs": [
        {
          "output_type": "stream",
          "name": "stdout",
          "text": [
            "Epoch 1/50\n"
          ]
        },
        {
          "output_type": "stream",
          "name": "stderr",
          "text": [
            "/usr/local/lib/python3.7/dist-packages/ipykernel_launcher.py:3: UserWarning: `Model.fit_generator` is deprecated and will be removed in a future version. Please use `Model.fit`, which supports generators.\n",
            "  This is separate from the ipykernel package so we can avoid doing imports until\n"
          ]
        },
        {
          "output_type": "stream",
          "name": "stdout",
          "text": [
            "10/10 [==============================] - 4s 58ms/step - loss: 0.1311 - val_loss: 0.6923\n",
            "Epoch 2/50\n",
            "10/10 [==============================] - 0s 17ms/step - loss: 0.1128 - val_loss: 0.1339\n",
            "Epoch 3/50\n",
            "10/10 [==============================] - 0s 17ms/step - loss: 0.0536 - val_loss: 0.0263\n",
            "Epoch 4/50\n",
            "10/10 [==============================] - 0s 23ms/step - loss: 0.0109 - val_loss: 0.0076\n",
            "Epoch 5/50\n",
            "10/10 [==============================] - 0s 18ms/step - loss: 0.0030 - val_loss: 0.0207\n",
            "Epoch 6/50\n",
            "10/10 [==============================] - 0s 20ms/step - loss: 0.0052 - val_loss: 0.0232\n",
            "Epoch 7/50\n",
            "10/10 [==============================] - 0s 22ms/step - loss: 0.0012 - val_loss: 0.0687\n",
            "Epoch 8/50\n",
            "10/10 [==============================] - 0s 21ms/step - loss: 0.0048 - val_loss: 0.0018\n",
            "Epoch 9/50\n",
            "10/10 [==============================] - 0s 18ms/step - loss: 0.0011 - val_loss: 0.0017\n",
            "Epoch 10/50\n",
            "10/10 [==============================] - 0s 22ms/step - loss: 0.0011 - val_loss: 5.3286e-06\n",
            "Epoch 11/50\n",
            "10/10 [==============================] - 0s 14ms/step - loss: 9.1315e-05 - val_loss: 5.1658e-04\n",
            "Epoch 12/50\n",
            "10/10 [==============================] - 0s 15ms/step - loss: 9.7121e-05 - val_loss: 3.9409e-04\n",
            "Epoch 13/50\n",
            "10/10 [==============================] - 0s 14ms/step - loss: 5.7561e-05 - val_loss: 3.5819e-04\n",
            "Epoch 14/50\n",
            "10/10 [==============================] - 0s 16ms/step - loss: 7.6566e-05 - val_loss: 3.5109e-05\n",
            "Epoch 15/50\n",
            "10/10 [==============================] - 0s 14ms/step - loss: 7.0697e-05 - val_loss: 1.7046e-04\n",
            "Epoch 16/50\n",
            "10/10 [==============================] - 0s 15ms/step - loss: 8.5291e-05 - val_loss: 2.3635e-04\n",
            "Epoch 17/50\n",
            "10/10 [==============================] - 0s 16ms/step - loss: 1.3615e-04 - val_loss: 0.0017\n",
            "Epoch 18/50\n",
            "10/10 [==============================] - 0s 15ms/step - loss: 1.8061e-04 - val_loss: 2.1215e-04\n",
            "Epoch 19/50\n",
            "10/10 [==============================] - 0s 21ms/step - loss: 9.7713e-05 - val_loss: 4.9333e-05\n",
            "Epoch 20/50\n",
            "10/10 [==============================] - 0s 21ms/step - loss: 1.5706e-04 - val_loss: 5.1700e-04\n",
            "Epoch 21/50\n",
            "10/10 [==============================] - 0s 21ms/step - loss: 1.0254e-04 - val_loss: 0.0018\n",
            "Epoch 22/50\n",
            "10/10 [==============================] - 0s 21ms/step - loss: 1.2358e-04 - val_loss: 1.3450e-05\n",
            "Epoch 23/50\n",
            "10/10 [==============================] - 0s 18ms/step - loss: 5.0352e-05 - val_loss: 0.0016\n",
            "Epoch 24/50\n",
            "10/10 [==============================] - 0s 14ms/step - loss: 9.7572e-05 - val_loss: 5.1655e-04\n",
            "Epoch 25/50\n",
            "10/10 [==============================] - 0s 16ms/step - loss: 6.2709e-05 - val_loss: 1.3426e-05\n",
            "Epoch 26/50\n",
            "10/10 [==============================] - 0s 20ms/step - loss: 4.3015e-05 - val_loss: 9.1576e-04\n",
            "Epoch 27/50\n",
            "10/10 [==============================] - 0s 22ms/step - loss: 5.3105e-05 - val_loss: 5.6923e-04\n",
            "Epoch 28/50\n",
            "10/10 [==============================] - 0s 19ms/step - loss: 4.4663e-05 - val_loss: 1.1967e-05\n",
            "Epoch 29/50\n",
            "10/10 [==============================] - 0s 25ms/step - loss: 2.0573e-05 - val_loss: 1.8224e-04\n",
            "Epoch 30/50\n",
            "10/10 [==============================] - 0s 22ms/step - loss: 5.8745e-05 - val_loss: 0.0012\n",
            "Epoch 31/50\n",
            "10/10 [==============================] - 0s 21ms/step - loss: 4.2278e-05 - val_loss: 9.1949e-06\n",
            "Epoch 32/50\n",
            "10/10 [==============================] - 0s 21ms/step - loss: 4.3450e-05 - val_loss: 3.4324e-05\n",
            "Epoch 33/50\n",
            "10/10 [==============================] - 0s 19ms/step - loss: 5.2920e-05 - val_loss: 0.0013\n",
            "Epoch 34/50\n",
            "10/10 [==============================] - 0s 19ms/step - loss: 6.7175e-05 - val_loss: 0.0019\n",
            "Epoch 35/50\n",
            "10/10 [==============================] - 0s 18ms/step - loss: 6.8370e-05 - val_loss: 4.4969e-04\n",
            "Epoch 36/50\n",
            "10/10 [==============================] - 0s 25ms/step - loss: 5.1125e-05 - val_loss: 1.5770e-04\n",
            "Epoch 37/50\n",
            "10/10 [==============================] - 0s 19ms/step - loss: 8.3381e-05 - val_loss: 3.9681e-04\n",
            "Epoch 38/50\n",
            "10/10 [==============================] - 0s 18ms/step - loss: 1.1690e-04 - val_loss: 0.0030\n",
            "Epoch 39/50\n",
            "10/10 [==============================] - 0s 18ms/step - loss: 2.1665e-04 - val_loss: 8.6797e-05\n",
            "Epoch 40/50\n",
            "10/10 [==============================] - 0s 21ms/step - loss: 5.4111e-05 - val_loss: 5.0420e-04\n",
            "Epoch 41/50\n",
            "10/10 [==============================] - 0s 21ms/step - loss: 0.0015 - val_loss: 0.0158\n",
            "Epoch 42/50\n",
            "10/10 [==============================] - 0s 22ms/step - loss: 3.9193e-04 - val_loss: 0.0025\n",
            "Epoch 43/50\n",
            "10/10 [==============================] - 0s 20ms/step - loss: 2.8228e-04 - val_loss: 2.3721e-05\n",
            "Epoch 44/50\n",
            "10/10 [==============================] - 0s 18ms/step - loss: 4.9249e-05 - val_loss: 0.0014\n",
            "Epoch 45/50\n",
            "10/10 [==============================] - 0s 15ms/step - loss: 6.9331e-05 - val_loss: 5.9153e-04\n",
            "Epoch 46/50\n",
            "10/10 [==============================] - 0s 14ms/step - loss: 6.0278e-05 - val_loss: 4.9652e-04\n",
            "Epoch 47/50\n",
            "10/10 [==============================] - 0s 15ms/step - loss: 2.0613e-05 - val_loss: 8.8946e-04\n",
            "Epoch 48/50\n",
            "10/10 [==============================] - 0s 18ms/step - loss: 2.9199e-05 - val_loss: 6.3443e-04\n",
            "Epoch 49/50\n",
            "10/10 [==============================] - 0s 13ms/step - loss: 1.0184e-05 - val_loss: 2.5643e-04\n",
            "Epoch 50/50\n",
            "10/10 [==============================] - 0s 14ms/step - loss: 1.2619e-05 - val_loss: 2.7206e-04\n"
          ]
        }
      ]
    },
    {
      "cell_type": "code",
      "source": [
        "#plot the training and validation accuracy and loss at each epoch\n",
        "loss = history.history['loss']\n",
        "val_loss = history.history['val_loss']\n",
        "epochs = range(1, len(loss) + 1)\n",
        "plt.plot(epochs, loss, 'y', label='Training loss')\n",
        "plt.plot(epochs, val_loss, 'r', label='Validation loss')\n",
        "plt.title('Training and validation loss')\n",
        "plt.xlabel('Epochs')\n",
        "plt.ylabel('Loss')\n",
        "plt.legend()\n",
        "plt.show()"
      ],
      "metadata": {
        "colab": {
          "base_uri": "https://localhost:8080/",
          "height": 295
        },
        "id": "3KQHeAqibRWU",
        "outputId": "5030f79f-c0f9-4827-a5a9-eccc723a84f6"
      },
      "execution_count": 49,
      "outputs": [
        {
          "output_type": "display_data",
          "data": {
            "image/png": "[encoded data removed]",
            "text/plain": [
              "<Figure size 432x288 with 1 Axes>"
            ]
          },
          "metadata": {
            "needs_background": "light"
          }
        }
      ]
    },
    {
      "cell_type": "code",
      "source": [
        "#forecast\n",
        "prediction = [] #Empty list to populate later with predictions\n",
        "\n",
        "current_batch = train_scaled[-seq_size:] #Final data points in train \n",
        "current_batch = current_batch.reshape(1, seq_size, n_features) #Reshape\n",
        "\n",
        "## Predict future, beyond test dates\n",
        "future = 7 #Days\n",
        "for i in range(len(test) + future):\n",
        "    current_pred = model.predict(current_batch)[0]\n",
        "    prediction.append(current_pred)\n",
        "    current_batch = np.append(current_batch[:,1:,:],[[current_pred]],axis=1)"
      ],
      "metadata": {
        "id": "5qxWHcEMbeHO"
      },
      "execution_count": 50,
      "outputs": []
    },
    {
      "cell_type": "code",
      "source": [
        "### Inverse transform to before scaling so we get actual numbers\n",
        "rescaled_prediction = scaler.inverse_transform(prediction)"
      ],
      "metadata": {
        "id": "_jKfWG3tbkt-"
      },
      "execution_count": 51,
      "outputs": []
    },
    {
      "cell_type": "code",
      "source": [
        "time_series_array = test.index  #Get dates for test data"
      ],
      "metadata": {
        "id": "5eEoU5h7bnOr"
      },
      "execution_count": 52,
      "outputs": []
    },
    {
      "cell_type": "code",
      "source": [
        "#Add new dates for the forecast period\n",
        "for k in range(0, future):\n",
        "    time_series_array = time_series_array.append(time_series_array[-1:] + pd.DateOffset(1))"
      ],
      "metadata": {
        "id": "pR00Tkg_boTD"
      },
      "execution_count": 53,
      "outputs": []
    },
    {
      "cell_type": "code",
      "source": [
        "#Create a dataframe to capture the forecast data\n",
        "df_forecast = pd.DataFrame(columns=[\"actual_confirmed\",\"predicted\"], index=time_series_array)\n",
        "\n",
        "df_forecast.loc[:,\"predicted\"] = rescaled_prediction[:,0]\n",
        "df_forecast.loc[:,\"actual_confirmed\"] = test[\"confirmed\"]\n",
        "\n",
        "#Plot\n",
        "df_forecast.plot(title=\"Predictions for next 7 days\")"
      ],
      "metadata": {
        "colab": {
          "base_uri": "https://localhost:8080/",
          "height": 322
        },
        "id": "OpobubY4bsN-",
        "outputId": "e76bea4b-d9cb-4f16-fec7-6d4e1f58c41a"
      },
      "execution_count": 54,
      "outputs": [
        {
          "output_type": "execute_result",
          "data": {
            "text/plain": [
              "<matplotlib.axes._subplots.AxesSubplot at 0x7f46b99784d0>"
            ]
          },
          "metadata": {},
          "execution_count": 54
        },
        {
          "output_type": "display_data",
          "data": {
            "image/png": "[encoded data removed]",
            "text/plain": [
              "<Figure size 432x288 with 1 Axes>"
            ]
          },
          "metadata": {
            "needs_background": "light"
          }
        }
      ]
    }
  ]
}